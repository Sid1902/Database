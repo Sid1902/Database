{
 "cells": [
  {
   "cell_type": "markdown",
   "id": "cdb2d2b6",
   "metadata": {},
   "source": [
    "#### Installing SQlite"
   ]
  },
  {
   "cell_type": "code",
   "execution_count": null,
   "id": "2c8bdf41",
   "metadata": {},
   "outputs": [],
   "source": [
    "l"
   ]
  },
  {
   "cell_type": "code",
   "execution_count": 2,
   "id": "dff65752",
   "metadata": {},
   "outputs": [],
   "source": [
    "import sqlite3"
   ]
  },
  {
   "cell_type": "markdown",
   "id": "6c8886c3",
   "metadata": {},
   "source": [
    "#### Connecting with SQLite"
   ]
  },
  {
   "cell_type": "code",
   "execution_count": 5,
   "id": "a11b6b71",
   "metadata": {},
   "outputs": [],
   "source": [
    "db = sqlite3.connect('myDatabse.db') #here provide the file name where u have to store the structured data"
   ]
  },
  {
   "cell_type": "markdown",
   "id": "a59bc3b8",
   "metadata": {},
   "source": [
    "#### Create the cursor"
   ]
  },
  {
   "cell_type": "code",
   "execution_count": 6,
   "id": "4cdc2156",
   "metadata": {},
   "outputs": [],
   "source": [
    "c = db.cursor()"
   ]
  },
  {
   "cell_type": "code",
   "execution_count": 10,
   "id": "81116c9c",
   "metadata": {},
   "outputs": [
    {
     "name": "stdout",
     "output_type": "stream",
     "text": [
      " Volume in drive C is Windows\n",
      " Volume Serial Number is 46C8-E9DC\n",
      "\n",
      " Directory of C:\\Users\\Siddhant\n",
      "\n",
      "31-01-2023  14:30     1,447,577,467 #Magoosh GRE Videos Collected From (DnaRna Collection)-20230131T085836Z-001.zip\n",
      "02-03-2024  17:24    <DIR>          .\n",
      "08-10-2022  23:53    <DIR>          ..\n",
      "18-11-2022  20:15    <DIR>          .anaconda\n",
      "08-10-2022  14:09    <DIR>          .btfs\n",
      "25-05-2023  01:50    <DIR>          .cache\n",
      "18-11-2022  21:47    <DIR>          .conda\n",
      "11-10-2022  21:51                25 .condarc\n",
      "24-02-2024  01:39    <DIR>          .config\n",
      "11-10-2022  21:51    <DIR>          .continuum\n",
      "21-11-2023  00:32    <DIR>          .cufflinks\n",
      "27-02-2024  17:21    <DIR>          .dbclient\n",
      "25-11-2022  21:35    <DIR>          .docker\n",
      "31-05-2023  20:00    <DIR>          .dotnet\n",
      "04-10-2022  16:48                62 .gitconfig\n",
      "02-03-2024  16:24    <DIR>          .ipynb_checkpoints\n",
      "18-11-2022  21:40    <DIR>          .ipython\n",
      "30-10-2023  15:38    <DIR>          .jupyter\n",
      "19-11-2022  16:59    <DIR>          .keras\n",
      "14-11-2022  21:39    <DIR>          .matplotlib\n",
      "24-05-2023  22:38    <DIR>          .nbi\n",
      "03-12-2023  22:43            34,490 .pdfbox.cache\n",
      "15-03-2023  12:55    <DIR>          .spyder-py3\n",
      "30-05-2023  21:48    <DIR>          .streamlit\n",
      "20-02-2023  10:52    <DIR>          .venvs\n",
      "18-11-2022  15:55    <DIR>          .VirtualBox\n",
      "27-02-2024  17:08    <DIR>          .vscode\n",
      "02-03-2024  15:43           390,355 19.3.2 pyMongo.ipynb\n",
      "28-09-2022  12:41    <DIR>          3D Objects\n",
      "30-10-2023  15:48                 0 5.3\n",
      "06-12-2023  17:18               515 admission_lr_model.pickle\n",
      "06-12-2023  15:57            16,085 Admission_Prediction.csv\n",
      "25-08-2023  02:40         3,974,305 adult.data\n",
      "05-12-2023  01:09             4,756 Advertising.csv\n",
      "05-12-2023  15:29           522,048 ai4i2020.csv\n",
      "13-01-2024  17:35         8,873,807 All_regression_practical.ipynb\n",
      "05-12-2023  00:40    <DIR>          anaconda3\n",
      "28-09-2022  12:10    <DIR>          ansel\n",
      "31-10-2023  04:52    <DIR>          bank\n",
      "14-02-2012  14:38           461,474 bank.csv\n",
      "20-11-2022  21:42             1,929 CBOW.py\n",
      "26-11-2023  02:29         1,184,203 cleaned_google_playstore_data.csv\n",
      "20-11-2022  21:42             1,241 CNN.py\n",
      "08-10-2022  23:58    <DIR>          Contacts\n",
      "20-01-2024  00:30             4,286 Customers.csv\n",
      "16-01-2024  16:41        15,348,798 Decision Trees.ipynb\n",
      "27-02-2024  17:08    <DIR>          Desktop\n",
      "27-02-2024  15:40    <DIR>          Documents\n",
      "02-03-2024  15:51    <DIR>          Downloads\n",
      "28-09-2022  11:47    <DIR>          Dropbox\n",
      "16-01-2024  16:26           281,754 dt_en_model.png\n",
      "28-10-2023  21:08         4,767,864 e6038522.mp4\n",
      "26-11-2023  02:30           227,507 EDA (Data_Cleaning).ipynb\n",
      "30-11-2023  12:32            34,651 EDA (Feature Engineering and preprocessing).ipynb\n",
      "29-11-2023  22:38         2,931,664 EDA(Analysis).ipynb\n",
      "07-10-2023  13:54            29,670 Exception_Handling.ipynb\n",
      "09-02-2023  13:55           289,577 face.jpg\n",
      "13-02-2023  13:12            79,214 Face.py\n",
      "08-10-2022  23:58    <DIR>          Favorites\n",
      "20-11-2022  21:48             1,114 FeedForward.py\n",
      "03-02-2023  14:31           856,664 Figure 2023-02-03 143123.png\n",
      "03-02-2023  15:31           472,171 Figure 2023-02-03 153104.png\n",
      "03-02-2023  15:51           472,117 Figure 2023-02-03 155117.png\n",
      "03-02-2023  15:54         8,308,196 Figure 2023-02-03 155454.png\n",
      "03-02-2023  16:00         8,308,409 Figure 2023-02-03 160050.png\n",
      "14-02-2023  16:30         1,528,411 Figure 2023-02-14 163055.png\n",
      "14-02-2023  16:31         1,382,377 Figure 2023-02-14 163101.png\n",
      "15-10-2023  11:21               483 file.txt\n",
      "13-04-2023  13:58            38,573 frame0.jpg\n",
      "13-04-2023  11:55            60,049 frame698.jpg\n",
      "13-04-2023  11:55            60,156 frame699.jpg\n",
      "13-04-2023  11:55            60,000 frame700.jpg\n",
      "25-11-2022  21:35    <DIR>          getting-started\n",
      "01-03-2024  15:03            10,021 glass.csv\n",
      "01-03-2024  17:17            11,903 glass.data\n",
      "23-11-2023  14:37         1,349,314 googleplaystore.csv\n",
      "25-02-2023  23:34             1,853 HaarcascadeClassifier.ipynb\n",
      "20-01-2024  15:49           163,583 Hierarchical Clustering.ipynb\n",
      "05-10-2023  10:32            17,378 Inheritance.ipynb\n",
      "08-11-2023  01:06             5,107 Iris.csv\n",
      "18-11-2022  21:55    <DIR>          Jedi\n",
      "31-10-2023  14:50            35,428 json_rep.csv\n",
      "20-01-2024  11:35           780,392 K-Means Clustering.ipynb\n",
      "16-01-2024  17:45           147,763 knn(wine_data)\n",
      "16-01-2024  21:10        10,970,530 KNN.ipynb\n",
      "03-12-2023  21:58             7,395 LEONIA RESORT (1).csv\n",
      "03-12-2023  21:58           917,419 LEONIA RESORT (1).pdf\n",
      "13-01-2024  17:06               510 linear_reg.pkl\n",
      "05-12-2023  01:58               510 linear_reg.sav\n",
      "12-12-2023  11:38         1,952,024 Linear_Reg_Prac2.ipynb\n",
      "13-01-2024  17:08            27,144 Linear_Regression_practical.ipynb\n",
      "08-10-2022  23:58    <DIR>          Links\n",
      "15-10-2023  10:54                 0 log1.txt\n",
      "15-10-2023  11:25            17,177 Logging and file handling.ipynb\n",
      "12-12-2023  13:20        26,302,154 Logistic_regerssion.ipynb\n",
      "24-08-2023  16:53               299 market.py\n",
      "22-12-2022  21:46            15,296 ML_bootcamp_Assignments.ipynb\n",
      "31-01-2023  14:28        36,575,884 MS in USA - Fall 2020-20230131T085716Z-001.zip\n",
      "08-10-2022  23:58    <DIR>          Music\n",
      "06-11-2023  16:43               104 my_file\n",
      "06-11-2023  16:43               144 my_file.npy\n",
      "02-03-2024  17:24             8,192 myDatabse.db\n",
      "15-10-2023  10:50                 0 mylog.txt\n",
      "15-10-2023  11:00               148 new_file.txt\n",
      "06-11-2023  19:56            72,320 Numpy.ipynb\n",
      "12-10-2022  23:20    <DIR>          OneDrive\n",
      "10-09-2023  15:30            19,235 OOP part 1-Ineuron.ipynb\n",
      "10-09-2023  22:02             3,189 OOP part-2  Ineuron.ipynb\n",
      "13-10-2023  14:39         2,573,626 output.xlsx\n",
      "01-11-2023  01:31         1,227,250 Pandas.ipynb\n",
      "27-04-2023  13:42    <DIR>          Pictures\n",
      "21-11-2023  13:28         7,601,544 Plotting Graphs and charts.ipynb\n",
      "15-10-2023  15:33    <DIR>          Postman\n",
      "22-11-2023  13:42           986,607 Practical_Statistics.ipynb\n",
      "07-10-2023  14:19    <DIR>          PycharmProjects\n",
      "02-03-2024  14:36            37,541 PyMongo.ipynb\n",
      "01-03-2024  17:53            50,069 PythonMySQL_Connection.ipynb\n",
      "06-01-2024  17:03            67,691 Random Forest .ipynb\n",
      "28-09-2022  12:41    <DIR>          Recorded Calls\n",
      "08-10-2022  23:58    <DIR>          Saved Games\n",
      "24-02-2024  01:40    <DIR>          scoop\n",
      "08-10-2022  23:58    <DIR>          Searches\n",
      "29-01-2023  11:46         4,348,120 Series-XV-Research Analyst Certification Examination_March2021.pdf\n",
      "14-11-2022  22:14           191,328 Social Media Analytics for Twitter.ipynb\n",
      "01-03-2024  17:15            69,247 SQL+Python.ipynb\n",
      "02-03-2024  17:24             9,380 SQLite.ipynb\n",
      "16-01-2024  21:57            34,593 Stacking.ipynb\n",
      "16-01-2024  21:09            39,644 SVR.ipynb\n",
      "28-10-2023  19:28               173 test - Sheet1.csv\n",
      "28-10-2023  19:35               173 test - Sheet1.tsv\n",
      "31-01-2023  14:30             7,039 Test Series Links.docx\n",
      "14-11-2022  21:37         1,357,306 test.csv\n",
      "13-01-2024  17:06         1,499,811 test.html\n",
      "14-10-2023  16:53               327 test.log\n",
      "09-02-2023  13:46           149,652 test_iaaamge3.jpeg\n",
      "13-02-2023  12:58    <DIR>          TestSet\n",
      "13-02-2023  12:57        11,744,460 TestSet.zip\n",
      "16-11-2023  16:27            61,194 Titanic.csv\n",
      "23-07-2023  18:43    <DIR>          Tracing\n",
      "14-11-2022  21:37         1,259,820 train.csv\n",
      "13-02-2023  12:58    <DIR>          TrainSet\n",
      "13-02-2023  12:58         5,113,461 TrainSet.zip\n",
      "14-11-2022  18:15            21,702 Untitled.ipynb\n",
      "19-12-2022  00:07             4,752 Untitled1.ipynb\n",
      "20-04-2023  18:11         1,334,384 Untitled10.ipynb\n",
      "13-10-2023  14:38               858 Untitled11.ipynb\n",
      "30-10-2023  15:20                72 Untitled12.ipynb\n",
      "30-10-2023  15:26                72 Untitled13.ipynb\n",
      "30-10-2023  15:33                72 Untitled14.ipynb\n",
      "04-12-2023  05:44             1,922 Untitled15.ipynb\n",
      "24-01-2024  11:46             3,390 Untitled16.ipynb\n",
      "15-12-2022  21:23             3,298 Untitled2.ipynb\n",
      "15-12-2022  22:18             1,058 Untitled3.ipynb\n",
      "20-11-2022  21:02             1,253 untitled3.py\n",
      "25-01-2023  11:11               969 Untitled4.ipynb\n",
      "26-01-2023  21:41               782 Untitled5.ipynb\n",
      "20-11-2022  22:29             1,968 untitled5.py\n",
      "05-02-2023  12:11               589 Untitled6.ipynb\n",
      "21-11-2022  06:46             1,115 untitled6.py\n",
      "25-03-2023  11:07           379,561 Untitled7.ipynb\n",
      "21-11-2022  06:31             1,044 untitled7.py\n",
      "09-02-2023  13:56           348,947 Untitled8.ipynb\n",
      "21-11-2022  07:07             1,772 untitled8.py\n",
      "13-04-2023  13:58             4,056 Untitled9.ipynb\n",
      "29-02-2024  22:32    <DIR>          Videos\n",
      "22-12-2023  17:04           100,951 winequality-red.csv\n",
      "11-01-2024  18:27            59,378 XGBoost.ipynb\n",
      "             118 File(s)  1,628,702,904 bytes\n",
      "              49 Dir(s)  127,651,303,424 bytes free\n"
     ]
    }
   ],
   "source": [
    "ls"
   ]
  },
  {
   "cell_type": "markdown",
   "id": "e45763df",
   "metadata": {},
   "source": [
    "#### Create the table "
   ]
  },
  {
   "cell_type": "code",
   "execution_count": 7,
   "id": "5c5e0030",
   "metadata": {},
   "outputs": [
    {
     "data": {
      "text/plain": [
       "<sqlite3.Cursor at 0x2632fc91880>"
      ]
     },
     "execution_count": 7,
     "metadata": {},
     "output_type": "execute_result"
    }
   ],
   "source": [
    "c.execute('create table test(name text,batch_id int,marks int)')"
   ]
  },
  {
   "cell_type": "code",
   "execution_count": 8,
   "id": "02e86c66",
   "metadata": {},
   "outputs": [
    {
     "data": {
      "text/plain": [
       "[]"
      ]
     },
     "execution_count": 8,
     "metadata": {},
     "output_type": "execute_result"
    }
   ],
   "source": [
    "c.fetchall()"
   ]
  },
  {
   "cell_type": "code",
   "execution_count": 13,
   "id": "e61d3890",
   "metadata": {},
   "outputs": [
    {
     "data": {
      "text/plain": [
       "<sqlite3.Cursor at 0x2632fc91880>"
      ]
     },
     "execution_count": 13,
     "metadata": {},
     "output_type": "execute_result"
    }
   ],
   "source": [
    "c.execute(\"insert into test values( 'sid',34535,454)\")\n"
   ]
  },
  {
   "cell_type": "markdown",
   "id": "e5a80621",
   "metadata": {},
   "source": [
    "#here if we check we can mydatabase-journal is created and this is related to data in table"
   ]
  },
  {
   "cell_type": "code",
   "execution_count": 17,
   "id": "82568e1b",
   "metadata": {},
   "outputs": [
    {
     "name": "stdout",
     "output_type": "stream",
     "text": [
      " Volume in drive C is Windows\n",
      " Volume Serial Number is 46C8-E9DC\n",
      "\n",
      " Directory of C:\\Users\\Siddhant\n",
      "\n",
      "31-01-2023  14:30     1,447,577,467 #Magoosh GRE Videos Collected From (DnaRna Collection)-20230131T085836Z-001.zip\n",
      "02-03-2024  17:30    <DIR>          .\n",
      "08-10-2022  23:53    <DIR>          ..\n",
      "18-11-2022  20:15    <DIR>          .anaconda\n",
      "08-10-2022  14:09    <DIR>          .btfs\n",
      "25-05-2023  01:50    <DIR>          .cache\n",
      "18-11-2022  21:47    <DIR>          .conda\n",
      "11-10-2022  21:51                25 .condarc\n",
      "24-02-2024  01:39    <DIR>          .config\n",
      "11-10-2022  21:51    <DIR>          .continuum\n",
      "21-11-2023  00:32    <DIR>          .cufflinks\n",
      "27-02-2024  17:21    <DIR>          .dbclient\n",
      "25-11-2022  21:35    <DIR>          .docker\n",
      "31-05-2023  20:00    <DIR>          .dotnet\n",
      "04-10-2022  16:48                62 .gitconfig\n",
      "02-03-2024  16:24    <DIR>          .ipynb_checkpoints\n",
      "18-11-2022  21:40    <DIR>          .ipython\n",
      "30-10-2023  15:38    <DIR>          .jupyter\n",
      "19-11-2022  16:59    <DIR>          .keras\n",
      "14-11-2022  21:39    <DIR>          .matplotlib\n",
      "24-05-2023  22:38    <DIR>          .nbi\n",
      "03-12-2023  22:43            34,490 .pdfbox.cache\n",
      "15-03-2023  12:55    <DIR>          .spyder-py3\n",
      "30-05-2023  21:48    <DIR>          .streamlit\n",
      "20-02-2023  10:52    <DIR>          .venvs\n",
      "18-11-2022  15:55    <DIR>          .VirtualBox\n",
      "27-02-2024  17:08    <DIR>          .vscode\n",
      "02-03-2024  15:43           390,355 19.3.2 pyMongo.ipynb\n",
      "28-09-2022  12:41    <DIR>          3D Objects\n",
      "30-10-2023  15:48                 0 5.3\n",
      "06-12-2023  17:18               515 admission_lr_model.pickle\n",
      "06-12-2023  15:57            16,085 Admission_Prediction.csv\n",
      "25-08-2023  02:40         3,974,305 adult.data\n",
      "05-12-2023  01:09             4,756 Advertising.csv\n",
      "05-12-2023  15:29           522,048 ai4i2020.csv\n",
      "13-01-2024  17:35         8,873,807 All_regression_practical.ipynb\n",
      "05-12-2023  00:40    <DIR>          anaconda3\n",
      "28-09-2022  12:10    <DIR>          ansel\n",
      "31-10-2023  04:52    <DIR>          bank\n",
      "14-02-2012  14:38           461,474 bank.csv\n",
      "20-11-2022  21:42             1,929 CBOW.py\n",
      "26-11-2023  02:29         1,184,203 cleaned_google_playstore_data.csv\n",
      "20-11-2022  21:42             1,241 CNN.py\n",
      "08-10-2022  23:58    <DIR>          Contacts\n",
      "20-01-2024  00:30             4,286 Customers.csv\n",
      "16-01-2024  16:41        15,348,798 Decision Trees.ipynb\n",
      "27-02-2024  17:08    <DIR>          Desktop\n",
      "27-02-2024  15:40    <DIR>          Documents\n",
      "02-03-2024  15:51    <DIR>          Downloads\n",
      "28-09-2022  11:47    <DIR>          Dropbox\n",
      "16-01-2024  16:26           281,754 dt_en_model.png\n",
      "28-10-2023  21:08         4,767,864 e6038522.mp4\n",
      "26-11-2023  02:30           227,507 EDA (Data_Cleaning).ipynb\n",
      "30-11-2023  12:32            34,651 EDA (Feature Engineering and preprocessing).ipynb\n",
      "29-11-2023  22:38         2,931,664 EDA(Analysis).ipynb\n",
      "07-10-2023  13:54            29,670 Exception_Handling.ipynb\n",
      "09-02-2023  13:55           289,577 face.jpg\n",
      "13-02-2023  13:12            79,214 Face.py\n",
      "08-10-2022  23:58    <DIR>          Favorites\n",
      "20-11-2022  21:48             1,114 FeedForward.py\n",
      "03-02-2023  14:31           856,664 Figure 2023-02-03 143123.png\n",
      "03-02-2023  15:31           472,171 Figure 2023-02-03 153104.png\n",
      "03-02-2023  15:51           472,117 Figure 2023-02-03 155117.png\n",
      "03-02-2023  15:54         8,308,196 Figure 2023-02-03 155454.png\n",
      "03-02-2023  16:00         8,308,409 Figure 2023-02-03 160050.png\n",
      "14-02-2023  16:30         1,528,411 Figure 2023-02-14 163055.png\n",
      "14-02-2023  16:31         1,382,377 Figure 2023-02-14 163101.png\n",
      "15-10-2023  11:21               483 file.txt\n",
      "13-04-2023  13:58            38,573 frame0.jpg\n",
      "13-04-2023  11:55            60,049 frame698.jpg\n",
      "13-04-2023  11:55            60,156 frame699.jpg\n",
      "13-04-2023  11:55            60,000 frame700.jpg\n",
      "25-11-2022  21:35    <DIR>          getting-started\n",
      "01-03-2024  15:03            10,021 glass.csv\n",
      "01-03-2024  17:17            11,903 glass.data\n",
      "23-11-2023  14:37         1,349,314 googleplaystore.csv\n",
      "25-02-2023  23:34             1,853 HaarcascadeClassifier.ipynb\n",
      "20-01-2024  15:49           163,583 Hierarchical Clustering.ipynb\n",
      "05-10-2023  10:32            17,378 Inheritance.ipynb\n",
      "08-11-2023  01:06             5,107 Iris.csv\n",
      "18-11-2022  21:55    <DIR>          Jedi\n",
      "31-10-2023  14:50            35,428 json_rep.csv\n",
      "20-01-2024  11:35           780,392 K-Means Clustering.ipynb\n",
      "16-01-2024  17:45           147,763 knn(wine_data)\n",
      "16-01-2024  21:10        10,970,530 KNN.ipynb\n",
      "03-12-2023  21:58             7,395 LEONIA RESORT (1).csv\n",
      "03-12-2023  21:58           917,419 LEONIA RESORT (1).pdf\n",
      "13-01-2024  17:06               510 linear_reg.pkl\n",
      "05-12-2023  01:58               510 linear_reg.sav\n",
      "12-12-2023  11:38         1,952,024 Linear_Reg_Prac2.ipynb\n",
      "13-01-2024  17:08            27,144 Linear_Regression_practical.ipynb\n",
      "08-10-2022  23:58    <DIR>          Links\n",
      "15-10-2023  10:54                 0 log1.txt\n",
      "15-10-2023  11:25            17,177 Logging and file handling.ipynb\n",
      "12-12-2023  13:20        26,302,154 Logistic_regerssion.ipynb\n",
      "24-08-2023  16:53               299 market.py\n",
      "22-12-2022  21:46            15,296 ML_bootcamp_Assignments.ipynb\n",
      "31-01-2023  14:28        36,575,884 MS in USA - Fall 2020-20230131T085716Z-001.zip\n",
      "08-10-2022  23:58    <DIR>          Music\n",
      "06-11-2023  16:43               104 my_file\n",
      "06-11-2023  16:43               144 my_file.npy\n",
      "02-03-2024  17:24             8,192 myDatabse.db\n",
      "02-03-2024  17:28                 0 myDatabse.db-journal\n",
      "15-10-2023  10:50                 0 mylog.txt\n",
      "15-10-2023  11:00               148 new_file.txt\n",
      "06-11-2023  19:56            72,320 Numpy.ipynb\n",
      "12-10-2022  23:20    <DIR>          OneDrive\n",
      "10-09-2023  15:30            19,235 OOP part 1-Ineuron.ipynb\n",
      "10-09-2023  22:02             3,189 OOP part-2  Ineuron.ipynb\n",
      "13-10-2023  14:39         2,573,626 output.xlsx\n",
      "01-11-2023  01:31         1,227,250 Pandas.ipynb\n",
      "27-04-2023  13:42    <DIR>          Pictures\n",
      "21-11-2023  13:28         7,601,544 Plotting Graphs and charts.ipynb\n",
      "15-10-2023  15:33    <DIR>          Postman\n",
      "22-11-2023  13:42           986,607 Practical_Statistics.ipynb\n",
      "07-10-2023  14:19    <DIR>          PycharmProjects\n",
      "02-03-2024  14:36            37,541 PyMongo.ipynb\n",
      "01-03-2024  17:53            50,069 PythonMySQL_Connection.ipynb\n",
      "06-01-2024  17:03            67,691 Random Forest .ipynb\n",
      "28-09-2022  12:41    <DIR>          Recorded Calls\n",
      "08-10-2022  23:58    <DIR>          Saved Games\n",
      "24-02-2024  01:40    <DIR>          scoop\n",
      "08-10-2022  23:58    <DIR>          Searches\n",
      "29-01-2023  11:46         4,348,120 Series-XV-Research Analyst Certification Examination_March2021.pdf\n",
      "14-11-2022  22:14           191,328 Social Media Analytics for Twitter.ipynb\n",
      "01-03-2024  17:15            69,247 SQL+Python.ipynb\n",
      "02-03-2024  17:30            21,438 SQLite.ipynb\n",
      "16-01-2024  21:57            34,593 Stacking.ipynb\n",
      "16-01-2024  21:09            39,644 SVR.ipynb\n",
      "28-10-2023  19:28               173 test - Sheet1.csv\n",
      "28-10-2023  19:35               173 test - Sheet1.tsv\n",
      "31-01-2023  14:30             7,039 Test Series Links.docx\n",
      "14-11-2022  21:37         1,357,306 test.csv\n",
      "13-01-2024  17:06         1,499,811 test.html\n",
      "14-10-2023  16:53               327 test.log\n",
      "09-02-2023  13:46           149,652 test_iaaamge3.jpeg\n",
      "13-02-2023  12:58    <DIR>          TestSet\n",
      "13-02-2023  12:57        11,744,460 TestSet.zip\n",
      "16-11-2023  16:27            61,194 Titanic.csv\n",
      "23-07-2023  18:43    <DIR>          Tracing\n",
      "14-11-2022  21:37         1,259,820 train.csv\n",
      "13-02-2023  12:58    <DIR>          TrainSet\n",
      "13-02-2023  12:58         5,113,461 TrainSet.zip\n",
      "14-11-2022  18:15            21,702 Untitled.ipynb\n",
      "19-12-2022  00:07             4,752 Untitled1.ipynb\n",
      "20-04-2023  18:11         1,334,384 Untitled10.ipynb\n",
      "13-10-2023  14:38               858 Untitled11.ipynb\n",
      "30-10-2023  15:20                72 Untitled12.ipynb\n",
      "30-10-2023  15:26                72 Untitled13.ipynb\n",
      "30-10-2023  15:33                72 Untitled14.ipynb\n",
      "04-12-2023  05:44             1,922 Untitled15.ipynb\n",
      "24-01-2024  11:46             3,390 Untitled16.ipynb\n",
      "15-12-2022  21:23             3,298 Untitled2.ipynb\n",
      "15-12-2022  22:18             1,058 Untitled3.ipynb\n",
      "20-11-2022  21:02             1,253 untitled3.py\n",
      "25-01-2023  11:11               969 Untitled4.ipynb\n",
      "26-01-2023  21:41               782 Untitled5.ipynb\n",
      "20-11-2022  22:29             1,968 untitled5.py\n",
      "05-02-2023  12:11               589 Untitled6.ipynb\n",
      "21-11-2022  06:46             1,115 untitled6.py\n",
      "25-03-2023  11:07           379,561 Untitled7.ipynb\n",
      "21-11-2022  06:31             1,044 untitled7.py\n",
      "09-02-2023  13:56           348,947 Untitled8.ipynb\n",
      "21-11-2022  07:07             1,772 untitled8.py\n",
      "13-04-2023  13:58             4,056 Untitled9.ipynb\n",
      "29-02-2024  22:32    <DIR>          Videos\n",
      "22-12-2023  17:04           100,951 winequality-red.csv\n",
      "11-01-2024  18:27            59,378 XGBoost.ipynb\n",
      "             119 File(s)  1,628,714,962 bytes\n",
      "              49 Dir(s)  127,653,519,360 bytes free\n"
     ]
    }
   ],
   "source": [
    "ls\n"
   ]
  },
  {
   "cell_type": "code",
   "execution_count": 18,
   "id": "083010c1",
   "metadata": {},
   "outputs": [
    {
     "data": {
      "text/plain": [
       "<sqlite3.Cursor at 0x2632fc91880>"
      ]
     },
     "execution_count": 18,
     "metadata": {},
     "output_type": "execute_result"
    }
   ],
   "source": [
    "c.execute(\"insert into test values( 'sid',34535,454)\")\n",
    "c.execute(\"insert into test values( 'sid',34535,454)\")\n",
    "c.execute(\"insert into test values( 'sid',34535,454)\")\n",
    "c.execute(\"insert into test values( 'sid',34535,454)\")\n",
    "c.execute(\"insert into test values( 'sid',34535,454)\")\n",
    "c.execute(\"insert into test values( 'sid',34535,454)\")\n",
    "c.execute(\"insert into test values( 'sid',34535,454)\")\n",
    "c.execute(\"insert into test values( 'sid',34535,454)\")\n",
    "c.execute(\"insert into test values( 'sid',34535,454)\")\n"
   ]
  },
  {
   "cell_type": "code",
   "execution_count": 20,
   "id": "301c0313",
   "metadata": {},
   "outputs": [
    {
     "data": {
      "text/plain": [
       "<sqlite3.Cursor at 0x2632fc91880>"
      ]
     },
     "execution_count": 20,
     "metadata": {},
     "output_type": "execute_result"
    }
   ],
   "source": [
    "c.execute(\"select * from test\")"
   ]
  },
  {
   "cell_type": "code",
   "execution_count": 21,
   "id": "a642f3fb",
   "metadata": {},
   "outputs": [
    {
     "data": {
      "text/plain": [
       "[('sid', 34535, 454),\n",
       " ('sid', 34535, 454),\n",
       " ('sid', 34535, 454),\n",
       " ('sid', 34535, 454),\n",
       " ('sid', 34535, 454),\n",
       " ('sid', 34535, 454),\n",
       " ('sid', 34535, 454),\n",
       " ('sid', 34535, 454),\n",
       " ('sid', 34535, 454),\n",
       " ('sid', 34535, 454)]"
      ]
     },
     "execution_count": 21,
     "metadata": {},
     "output_type": "execute_result"
    }
   ],
   "source": [
    "c.fetchall()"
   ]
  },
  {
   "cell_type": "code",
   "execution_count": 22,
   "id": "bb6ee354",
   "metadata": {},
   "outputs": [],
   "source": [
    "db.commit()"
   ]
  },
  {
   "cell_type": "code",
   "execution_count": 23,
   "id": "3a278299",
   "metadata": {},
   "outputs": [
    {
     "name": "stdout",
     "output_type": "stream",
     "text": [
      " Volume in drive C is Windows\n",
      " Volume Serial Number is 46C8-E9DC\n",
      "\n",
      " Directory of C:\\Users\\Siddhant\n",
      "\n",
      "31-01-2023  14:30     1,447,577,467 #Magoosh GRE Videos Collected From (DnaRna Collection)-20230131T085836Z-001.zip\n",
      "02-03-2024  17:32    <DIR>          .\n",
      "08-10-2022  23:53    <DIR>          ..\n",
      "18-11-2022  20:15    <DIR>          .anaconda\n",
      "08-10-2022  14:09    <DIR>          .btfs\n",
      "25-05-2023  01:50    <DIR>          .cache\n",
      "18-11-2022  21:47    <DIR>          .conda\n",
      "11-10-2022  21:51                25 .condarc\n",
      "24-02-2024  01:39    <DIR>          .config\n",
      "11-10-2022  21:51    <DIR>          .continuum\n",
      "21-11-2023  00:32    <DIR>          .cufflinks\n",
      "27-02-2024  17:21    <DIR>          .dbclient\n",
      "25-11-2022  21:35    <DIR>          .docker\n",
      "31-05-2023  20:00    <DIR>          .dotnet\n",
      "04-10-2022  16:48                62 .gitconfig\n",
      "02-03-2024  16:24    <DIR>          .ipynb_checkpoints\n",
      "18-11-2022  21:40    <DIR>          .ipython\n",
      "30-10-2023  15:38    <DIR>          .jupyter\n",
      "19-11-2022  16:59    <DIR>          .keras\n",
      "14-11-2022  21:39    <DIR>          .matplotlib\n",
      "24-05-2023  22:38    <DIR>          .nbi\n",
      "03-12-2023  22:43            34,490 .pdfbox.cache\n",
      "15-03-2023  12:55    <DIR>          .spyder-py3\n",
      "30-05-2023  21:48    <DIR>          .streamlit\n",
      "20-02-2023  10:52    <DIR>          .venvs\n",
      "18-11-2022  15:55    <DIR>          .VirtualBox\n",
      "27-02-2024  17:08    <DIR>          .vscode\n",
      "02-03-2024  15:43           390,355 19.3.2 pyMongo.ipynb\n",
      "28-09-2022  12:41    <DIR>          3D Objects\n",
      "30-10-2023  15:48                 0 5.3\n",
      "06-12-2023  17:18               515 admission_lr_model.pickle\n",
      "06-12-2023  15:57            16,085 Admission_Prediction.csv\n",
      "25-08-2023  02:40         3,974,305 adult.data\n",
      "05-12-2023  01:09             4,756 Advertising.csv\n",
      "05-12-2023  15:29           522,048 ai4i2020.csv\n",
      "13-01-2024  17:35         8,873,807 All_regression_practical.ipynb\n",
      "05-12-2023  00:40    <DIR>          anaconda3\n",
      "28-09-2022  12:10    <DIR>          ansel\n",
      "31-10-2023  04:52    <DIR>          bank\n",
      "14-02-2012  14:38           461,474 bank.csv\n",
      "20-11-2022  21:42             1,929 CBOW.py\n",
      "26-11-2023  02:29         1,184,203 cleaned_google_playstore_data.csv\n",
      "20-11-2022  21:42             1,241 CNN.py\n",
      "08-10-2022  23:58    <DIR>          Contacts\n",
      "20-01-2024  00:30             4,286 Customers.csv\n",
      "16-01-2024  16:41        15,348,798 Decision Trees.ipynb\n",
      "27-02-2024  17:08    <DIR>          Desktop\n",
      "27-02-2024  15:40    <DIR>          Documents\n",
      "02-03-2024  15:51    <DIR>          Downloads\n",
      "28-09-2022  11:47    <DIR>          Dropbox\n",
      "16-01-2024  16:26           281,754 dt_en_model.png\n",
      "28-10-2023  21:08         4,767,864 e6038522.mp4\n",
      "26-11-2023  02:30           227,507 EDA (Data_Cleaning).ipynb\n",
      "30-11-2023  12:32            34,651 EDA (Feature Engineering and preprocessing).ipynb\n",
      "29-11-2023  22:38         2,931,664 EDA(Analysis).ipynb\n",
      "07-10-2023  13:54            29,670 Exception_Handling.ipynb\n",
      "09-02-2023  13:55           289,577 face.jpg\n",
      "13-02-2023  13:12            79,214 Face.py\n",
      "08-10-2022  23:58    <DIR>          Favorites\n",
      "20-11-2022  21:48             1,114 FeedForward.py\n",
      "03-02-2023  14:31           856,664 Figure 2023-02-03 143123.png\n",
      "03-02-2023  15:31           472,171 Figure 2023-02-03 153104.png\n",
      "03-02-2023  15:51           472,117 Figure 2023-02-03 155117.png\n",
      "03-02-2023  15:54         8,308,196 Figure 2023-02-03 155454.png\n",
      "03-02-2023  16:00         8,308,409 Figure 2023-02-03 160050.png\n",
      "14-02-2023  16:30         1,528,411 Figure 2023-02-14 163055.png\n",
      "14-02-2023  16:31         1,382,377 Figure 2023-02-14 163101.png\n",
      "15-10-2023  11:21               483 file.txt\n",
      "13-04-2023  13:58            38,573 frame0.jpg\n",
      "13-04-2023  11:55            60,049 frame698.jpg\n",
      "13-04-2023  11:55            60,156 frame699.jpg\n",
      "13-04-2023  11:55            60,000 frame700.jpg\n",
      "25-11-2022  21:35    <DIR>          getting-started\n",
      "01-03-2024  15:03            10,021 glass.csv\n",
      "01-03-2024  17:17            11,903 glass.data\n",
      "23-11-2023  14:37         1,349,314 googleplaystore.csv\n",
      "25-02-2023  23:34             1,853 HaarcascadeClassifier.ipynb\n",
      "20-01-2024  15:49           163,583 Hierarchical Clustering.ipynb\n",
      "05-10-2023  10:32            17,378 Inheritance.ipynb\n",
      "08-11-2023  01:06             5,107 Iris.csv\n",
      "18-11-2022  21:55    <DIR>          Jedi\n",
      "31-10-2023  14:50            35,428 json_rep.csv\n",
      "20-01-2024  11:35           780,392 K-Means Clustering.ipynb\n",
      "16-01-2024  17:45           147,763 knn(wine_data)\n",
      "16-01-2024  21:10        10,970,530 KNN.ipynb\n",
      "03-12-2023  21:58             7,395 LEONIA RESORT (1).csv\n",
      "03-12-2023  21:58           917,419 LEONIA RESORT (1).pdf\n",
      "13-01-2024  17:06               510 linear_reg.pkl\n",
      "05-12-2023  01:58               510 linear_reg.sav\n",
      "12-12-2023  11:38         1,952,024 Linear_Reg_Prac2.ipynb\n",
      "13-01-2024  17:08            27,144 Linear_Regression_practical.ipynb\n",
      "08-10-2022  23:58    <DIR>          Links\n",
      "15-10-2023  10:54                 0 log1.txt\n",
      "15-10-2023  11:25            17,177 Logging and file handling.ipynb\n",
      "12-12-2023  13:20        26,302,154 Logistic_regerssion.ipynb\n",
      "24-08-2023  16:53               299 market.py\n",
      "22-12-2022  21:46            15,296 ML_bootcamp_Assignments.ipynb\n",
      "31-01-2023  14:28        36,575,884 MS in USA - Fall 2020-20230131T085716Z-001.zip\n",
      "08-10-2022  23:58    <DIR>          Music\n",
      "06-11-2023  16:43               104 my_file\n",
      "06-11-2023  16:43               144 my_file.npy\n",
      "02-03-2024  17:32             8,192 myDatabse.db\n",
      "15-10-2023  10:50                 0 mylog.txt\n",
      "15-10-2023  11:00               148 new_file.txt\n",
      "06-11-2023  19:56            72,320 Numpy.ipynb\n",
      "12-10-2022  23:20    <DIR>          OneDrive\n",
      "10-09-2023  15:30            19,235 OOP part 1-Ineuron.ipynb\n",
      "10-09-2023  22:02             3,189 OOP part-2  Ineuron.ipynb\n",
      "13-10-2023  14:39         2,573,626 output.xlsx\n",
      "01-11-2023  01:31         1,227,250 Pandas.ipynb\n",
      "27-04-2023  13:42    <DIR>          Pictures\n",
      "21-11-2023  13:28         7,601,544 Plotting Graphs and charts.ipynb\n",
      "15-10-2023  15:33    <DIR>          Postman\n",
      "22-11-2023  13:42           986,607 Practical_Statistics.ipynb\n",
      "07-10-2023  14:19    <DIR>          PycharmProjects\n",
      "02-03-2024  14:36            37,541 PyMongo.ipynb\n",
      "01-03-2024  17:53            50,069 PythonMySQL_Connection.ipynb\n",
      "06-01-2024  17:03            67,691 Random Forest .ipynb\n",
      "28-09-2022  12:41    <DIR>          Recorded Calls\n",
      "08-10-2022  23:58    <DIR>          Saved Games\n",
      "24-02-2024  01:40    <DIR>          scoop\n",
      "08-10-2022  23:58    <DIR>          Searches\n",
      "29-01-2023  11:46         4,348,120 Series-XV-Research Analyst Certification Examination_March2021.pdf\n",
      "14-11-2022  22:14           191,328 Social Media Analytics for Twitter.ipynb\n",
      "01-03-2024  17:15            69,247 SQL+Python.ipynb\n",
      "02-03-2024  17:32            33,669 SQLite.ipynb\n",
      "16-01-2024  21:57            34,593 Stacking.ipynb\n",
      "16-01-2024  21:09            39,644 SVR.ipynb\n",
      "28-10-2023  19:28               173 test - Sheet1.csv\n",
      "28-10-2023  19:35               173 test - Sheet1.tsv\n",
      "31-01-2023  14:30             7,039 Test Series Links.docx\n",
      "14-11-2022  21:37         1,357,306 test.csv\n",
      "13-01-2024  17:06         1,499,811 test.html\n",
      "14-10-2023  16:53               327 test.log\n",
      "09-02-2023  13:46           149,652 test_iaaamge3.jpeg\n",
      "13-02-2023  12:58    <DIR>          TestSet\n",
      "13-02-2023  12:57        11,744,460 TestSet.zip\n",
      "16-11-2023  16:27            61,194 Titanic.csv\n",
      "23-07-2023  18:43    <DIR>          Tracing\n",
      "14-11-2022  21:37         1,259,820 train.csv\n",
      "13-02-2023  12:58    <DIR>          TrainSet\n",
      "13-02-2023  12:58         5,113,461 TrainSet.zip\n",
      "14-11-2022  18:15            21,702 Untitled.ipynb\n",
      "19-12-2022  00:07             4,752 Untitled1.ipynb\n",
      "20-04-2023  18:11         1,334,384 Untitled10.ipynb\n",
      "13-10-2023  14:38               858 Untitled11.ipynb\n",
      "30-10-2023  15:20                72 Untitled12.ipynb\n",
      "30-10-2023  15:26                72 Untitled13.ipynb\n",
      "30-10-2023  15:33                72 Untitled14.ipynb\n",
      "04-12-2023  05:44             1,922 Untitled15.ipynb\n",
      "24-01-2024  11:46             3,390 Untitled16.ipynb\n",
      "15-12-2022  21:23             3,298 Untitled2.ipynb\n",
      "15-12-2022  22:18             1,058 Untitled3.ipynb\n",
      "20-11-2022  21:02             1,253 untitled3.py\n",
      "25-01-2023  11:11               969 Untitled4.ipynb\n",
      "26-01-2023  21:41               782 Untitled5.ipynb\n",
      "20-11-2022  22:29             1,968 untitled5.py\n",
      "05-02-2023  12:11               589 Untitled6.ipynb\n",
      "21-11-2022  06:46             1,115 untitled6.py\n",
      "25-03-2023  11:07           379,561 Untitled7.ipynb\n",
      "21-11-2022  06:31             1,044 untitled7.py\n",
      "09-02-2023  13:56           348,947 Untitled8.ipynb\n",
      "21-11-2022  07:07             1,772 untitled8.py\n",
      "13-04-2023  13:58             4,056 Untitled9.ipynb\n",
      "29-02-2024  22:32    <DIR>          Videos\n",
      "22-12-2023  17:04           100,951 winequality-red.csv\n",
      "11-01-2024  18:27            59,378 XGBoost.ipynb\n",
      "             118 File(s)  1,628,727,193 bytes\n",
      "              49 Dir(s)  127,656,062,976 bytes free\n"
     ]
    }
   ],
   "source": [
    "ls"
   ]
  },
  {
   "cell_type": "code",
   "execution_count": 24,
   "id": "6da8d456",
   "metadata": {},
   "outputs": [],
   "source": [
    "db.close()"
   ]
  },
  {
   "cell_type": "code",
   "execution_count": null,
   "id": "29a812c0",
   "metadata": {},
   "outputs": [],
   "source": []
  },
  {
   "cell_type": "code",
   "execution_count": null,
   "id": "e3e6994e",
   "metadata": {},
   "outputs": [],
   "source": []
  },
  {
   "cell_type": "markdown",
   "id": "3902bdd8",
   "metadata": {},
   "source": [
    "#  SQL Magic Statemnets"
   ]
  },
  {
   "cell_type": "markdown",
   "id": "3a84d420",
   "metadata": {},
   "source": [
    "Magic commands or magic functions are special commands in Jupyter Notebooks that provide special functionalities. They are not valid Python code but affect the behavior of the notebook. They are designed to solve various common problems in standard data analysis. There are two types of magic statements in Jupyter notebooks, line magics and cell magics. Line magics in Jupyter notebooks are commands that are prefixed with a single percentage character and operate on a single line of input. They are like command line calls in a terminal shell. On the other hand, cell magics are prefixed with two percentage characters and operate on multiple lines of input. They can even transform the entire cell or execute the cell in a different programming language. Some popularly used Line Magics in Jupyter notebooks, %pwd."
   ]
  },
  {
   "cell_type": "markdown",
   "id": "ac91b266",
   "metadata": {},
   "source": [
    "###### installation required for magicSQL"
   ]
  },
  {
   "cell_type": "code",
   "execution_count": 27,
   "id": "d4209298",
   "metadata": {},
   "outputs": [
    {
     "name": "stdout",
     "output_type": "stream",
     "text": [
      "Collecting ipython-sql\n",
      "  Downloading ipython_sql-0.5.0-py3-none-any.whl (20 kB)\n",
      "Requirement already satisfied: six in c:\\users\\siddhant\\anaconda3\\lib\\site-packages (from ipython-sql) (1.16.0)\n",
      "Collecting sqlparse\n",
      "  Downloading sqlparse-0.4.4-py3-none-any.whl (41 kB)\n",
      "     ---------------------------------------- 0.0/41.2 kB ? eta -:--:--\n",
      "     ---------------------------------------- 41.2/41.2 kB 1.9 MB/s eta 0:00:00\n",
      "Requirement already satisfied: ipython in c:\\users\\siddhant\\anaconda3\\lib\\site-packages (from ipython-sql) (8.10.0)\n",
      "Collecting sqlalchemy>=2.0\n",
      "  Downloading SQLAlchemy-2.0.27-cp39-cp39-win_amd64.whl (2.1 MB)\n",
      "     ---------------------------------------- 0.0/2.1 MB ? eta -:--:--\n",
      "     ----- ---------------------------------- 0.3/2.1 MB 9.6 MB/s eta 0:00:01\n",
      "     ---------------- ----------------------- 0.8/2.1 MB 10.8 MB/s eta 0:00:01\n",
      "     ----------------------------- ---------- 1.5/2.1 MB 12.2 MB/s eta 0:00:01\n",
      "     ---------------------------------------- 2.1/2.1 MB 13.2 MB/s eta 0:00:00\n",
      "Collecting prettytable\n",
      "  Downloading prettytable-3.10.0-py3-none-any.whl (28 kB)\n",
      "Requirement already satisfied: ipython-genutils in c:\\users\\siddhant\\anaconda3\\lib\\site-packages (from ipython-sql) (0.2.0)\n",
      "Requirement already satisfied: typing-extensions>=4.6.0 in c:\\users\\siddhant\\anaconda3\\lib\\site-packages (from sqlalchemy>=2.0->ipython-sql) (4.8.0)\n",
      "Requirement already satisfied: greenlet!=0.4.17 in c:\\users\\siddhant\\anaconda3\\lib\\site-packages (from sqlalchemy>=2.0->ipython-sql) (2.0.1)\n",
      "Requirement already satisfied: matplotlib-inline in c:\\users\\siddhant\\anaconda3\\lib\\site-packages (from ipython->ipython-sql) (0.1.6)\n",
      "Requirement already satisfied: pygments>=2.4.0 in c:\\users\\siddhant\\anaconda3\\lib\\site-packages (from ipython->ipython-sql) (2.11.2)\n",
      "Requirement already satisfied: prompt-toolkit<3.1.0,>=3.0.30 in c:\\users\\siddhant\\anaconda3\\lib\\site-packages (from ipython->ipython-sql) (3.0.36)\n",
      "Requirement already satisfied: stack-data in c:\\users\\siddhant\\anaconda3\\lib\\site-packages (from ipython->ipython-sql) (0.2.0)\n",
      "Requirement already satisfied: jedi>=0.16 in c:\\users\\siddhant\\anaconda3\\lib\\site-packages (from ipython->ipython-sql) (0.18.1)\n",
      "Requirement already satisfied: pickleshare in c:\\users\\siddhant\\anaconda3\\lib\\site-packages (from ipython->ipython-sql) (0.7.5)\n",
      "Requirement already satisfied: traitlets>=5 in c:\\users\\siddhant\\anaconda3\\lib\\site-packages (from ipython->ipython-sql) (5.7.1)\n",
      "Requirement already satisfied: backcall in c:\\users\\siddhant\\anaconda3\\lib\\site-packages (from ipython->ipython-sql) (0.2.0)\n",
      "Requirement already satisfied: decorator in c:\\users\\siddhant\\anaconda3\\lib\\site-packages (from ipython->ipython-sql) (5.1.1)\n",
      "Requirement already satisfied: colorama in c:\\users\\siddhant\\anaconda3\\lib\\site-packages (from ipython->ipython-sql) (0.4.6)\n",
      "Requirement already satisfied: wcwidth in c:\\users\\siddhant\\anaconda3\\lib\\site-packages (from prettytable->ipython-sql) (0.2.5)\n",
      "Requirement already satisfied: parso<0.9.0,>=0.8.0 in c:\\users\\siddhant\\anaconda3\\lib\\site-packages (from jedi>=0.16->ipython->ipython-sql) (0.8.3)\n",
      "Requirement already satisfied: asttokens in c:\\users\\siddhant\\anaconda3\\lib\\site-packages (from stack-data->ipython->ipython-sql) (2.0.5)\n",
      "Requirement already satisfied: executing in c:\\users\\siddhant\\anaconda3\\lib\\site-packages (from stack-data->ipython->ipython-sql) (0.8.3)\n",
      "Requirement already satisfied: pure-eval in c:\\users\\siddhant\\anaconda3\\lib\\site-packages (from stack-data->ipython->ipython-sql) (0.2.2)\n",
      "Installing collected packages: sqlparse, sqlalchemy, prettytable, ipython-sql\n",
      "  Attempting uninstall: sqlalchemy\n",
      "    Found existing installation: SQLAlchemy 1.4.39\n",
      "    Uninstalling SQLAlchemy-1.4.39:\n",
      "      Successfully uninstalled SQLAlchemy-1.4.39\n",
      "Successfully installed ipython-sql-0.5.0 prettytable-3.10.0 sqlalchemy-2.0.27 sqlparse-0.4.4\n"
     ]
    }
   ],
   "source": [
    "!pip install ipython-sql"
   ]
  },
  {
   "cell_type": "markdown",
   "id": "4d65cd36",
   "metadata": {},
   "source": [
    "##### Example of cell magic statement"
   ]
  },
  {
   "cell_type": "code",
   "execution_count": 33,
   "id": "02c6cf10",
   "metadata": {},
   "outputs": [
    {
     "data": {
      "text/html": [
       "<h1> Hello World </h1>\n"
      ],
      "text/plain": [
       "<IPython.core.display.HTML object>"
      ]
     },
     "metadata": {},
     "output_type": "display_data"
    }
   ],
   "source": [
    "%%html\n",
    "<h1> Hello World </h1>"
   ]
  },
  {
   "cell_type": "markdown",
   "id": "aa41cb93",
   "metadata": {},
   "source": [
    "##### Load the extension to run SQL MAGIC in Jupyter Notebooks "
   ]
  },
  {
   "cell_type": "code",
   "execution_count": 35,
   "id": "6c4fa052",
   "metadata": {},
   "outputs": [
    {
     "name": "stdout",
     "output_type": "stream",
     "text": [
      "The sql extension is already loaded. To reload it, use:\n",
      "  %reload_ext sql\n"
     ]
    }
   ],
   "source": [
    "%load_ext sql"
   ]
  },
  {
   "cell_type": "markdown",
   "id": "a78e1b71",
   "metadata": {},
   "source": [
    "##### After this establish the connection with SQLite"
   ]
  },
  {
   "cell_type": "code",
   "execution_count": 40,
   "id": "1e4306c1",
   "metadata": {},
   "outputs": [],
   "source": [
    "db = sqlite3.connect('myDatabse.db')"
   ]
  },
  {
   "cell_type": "markdown",
   "id": "29ad3e4b",
   "metadata": {},
   "source": [
    "###### Now establish connection for SQL magic module to SQL server being used in thisway :"
   ]
  },
  {
   "cell_type": "code",
   "execution_count": 42,
   "id": "c3ba5e2b",
   "metadata": {},
   "outputs": [],
   "source": [
    "%sql sqlite:///myDatabase.db"
   ]
  },
  {
   "cell_type": "markdown",
   "id": "71ee0c8f",
   "metadata": {},
   "source": [
    "##### Now for SQl statements no need to use cursor and execute statements \n",
    "\n",
    "##### By using %sql u can start writing sql query."
   ]
  },
  {
   "cell_type": "code",
   "execution_count": 44,
   "id": "44ff05a9",
   "metadata": {},
   "outputs": [
    {
     "name": "stdout",
     "output_type": "stream",
     "text": [
      " * sqlite:///myDatabase.db\n",
      "Done.\n"
     ]
    },
    {
     "data": {
      "text/plain": [
       "[]"
      ]
     },
     "execution_count": 44,
     "metadata": {},
     "output_type": "execute_result"
    }
   ],
   "source": [
    "%sql create table person(name text ,email text , age int , salary real)"
   ]
  },
  {
   "cell_type": "code",
   "execution_count": 50,
   "id": "6d80781f",
   "metadata": {},
   "outputs": [
    {
     "name": "stdout",
     "output_type": "stream",
     "text": [
      " * sqlite:///myDatabase.db\n",
      "4 rows affected.\n"
     ]
    },
    {
     "data": {
      "text/plain": [
       "[]"
      ]
     },
     "execution_count": 50,
     "metadata": {},
     "output_type": "execute_result"
    }
   ],
   "source": [
    "%sql insert into person values('sudh','sudh@gmail.com',234,2323265),('prashant','prashant@gmail.com',345,2326264949),('krish','krish@gmail.com',2345,1142494),('sunny','sunny@gmail.com',154,77989879 )"
   ]
  },
  {
   "cell_type": "code",
   "execution_count": 52,
   "id": "33ce3d0a",
   "metadata": {},
   "outputs": [
    {
     "name": "stdout",
     "output_type": "stream",
     "text": [
      " * sqlite:///myDatabase.db\n",
      "Done.\n"
     ]
    }
   ],
   "source": [
    "result = %sql select * from person"
   ]
  },
  {
   "cell_type": "code",
   "execution_count": 61,
   "id": "6dbdec15",
   "metadata": {},
   "outputs": [
    {
     "data": {
      "text/html": [
       "<table>\n",
       "    <thead>\n",
       "        <tr>\n",
       "            <th>name</th>\n",
       "            <th>email</th>\n",
       "            <th>age</th>\n",
       "            <th>salary</th>\n",
       "        </tr>\n",
       "    </thead>\n",
       "    <tbody>\n",
       "        <tr>\n",
       "            <td>sudh</td>\n",
       "            <td>sudh@gmail.com</td>\n",
       "            <td>234</td>\n",
       "            <td>2323265.0</td>\n",
       "        </tr>\n",
       "        <tr>\n",
       "            <td>prashant</td>\n",
       "            <td>prashant@gmail.com</td>\n",
       "            <td>345</td>\n",
       "            <td>2326264949.0</td>\n",
       "        </tr>\n",
       "        <tr>\n",
       "            <td>krish</td>\n",
       "            <td>krish@gmail.com</td>\n",
       "            <td>2345</td>\n",
       "            <td>1142494.0</td>\n",
       "        </tr>\n",
       "        <tr>\n",
       "            <td>sunny</td>\n",
       "            <td>sunny@gmail.com</td>\n",
       "            <td>154</td>\n",
       "            <td>77989879.0</td>\n",
       "        </tr>\n",
       "    </tbody>\n",
       "</table>"
      ],
      "text/plain": [
       "[('sudh', 'sudh@gmail.com', 234, 2323265.0),\n",
       " ('prashant', 'prashant@gmail.com', 345, 2326264949.0),\n",
       " ('krish', 'krish@gmail.com', 2345, 1142494.0),\n",
       " ('sunny', 'sunny@gmail.com', 154, 77989879.0)]"
      ]
     },
     "execution_count": 61,
     "metadata": {},
     "output_type": "execute_result"
    }
   ],
   "source": [
    "result"
   ]
  },
  {
   "cell_type": "code",
   "execution_count": 65,
   "id": "b1ca1b1f",
   "metadata": {},
   "outputs": [],
   "source": [
    "db.close()"
   ]
  },
  {
   "cell_type": "code",
   "execution_count": 67,
   "id": "479c21aa",
   "metadata": {},
   "outputs": [],
   "source": [
    "db = sqlite3.connect('myDatabase.db')"
   ]
  },
  {
   "cell_type": "code",
   "execution_count": 68,
   "id": "86fb429b",
   "metadata": {},
   "outputs": [],
   "source": [
    "c = db.cursor()"
   ]
  },
  {
   "cell_type": "code",
   "execution_count": 69,
   "id": "d34620a2",
   "metadata": {},
   "outputs": [],
   "source": [
    "data =c.execute('select * from person')"
   ]
  },
  {
   "cell_type": "code",
   "execution_count": 71,
   "id": "927b1093",
   "metadata": {},
   "outputs": [
    {
     "name": "stdout",
     "output_type": "stream",
     "text": [
      "('sudh', 'sudh@gmail.com', 234, 2323265.0)\n",
      "('prashant', 'prashant@gmail.com', 345, 2326264949.0)\n",
      "('krish', 'krish@gmail.com', 2345, 1142494.0)\n",
      "('sunny', 'sunny@gmail.com', 154, 77989879.0)\n"
     ]
    }
   ],
   "source": [
    "for i in data :\n",
    "    print(i)"
   ]
  },
  {
   "cell_type": "code",
   "execution_count": 78,
   "id": "613fe649",
   "metadata": {},
   "outputs": [],
   "source": [
    "data =c.execute('select * from person limit 2')"
   ]
  },
  {
   "cell_type": "code",
   "execution_count": 79,
   "id": "8ffea9dd",
   "metadata": {},
   "outputs": [
    {
     "data": {
      "text/plain": [
       "[('sudh', 'sudh@gmail.com', 234, 2323265.0),\n",
       " ('prashant', 'prashant@gmail.com', 345, 2326264949.0)]"
      ]
     },
     "execution_count": 79,
     "metadata": {},
     "output_type": "execute_result"
    }
   ],
   "source": [
    "\n",
    "c.fetchall()"
   ]
  },
  {
   "cell_type": "code",
   "execution_count": 80,
   "id": "285e29f3",
   "metadata": {},
   "outputs": [],
   "source": [
    "db.close()"
   ]
  },
  {
   "cell_type": "code",
   "execution_count": 81,
   "id": "9e222425",
   "metadata": {},
   "outputs": [],
   "source": [
    "db = sqlite3.connect('jobdb.db')"
   ]
  },
  {
   "cell_type": "code",
   "execution_count": 82,
   "id": "f5f96e3c",
   "metadata": {},
   "outputs": [],
   "source": [
    "c = db.cursor()"
   ]
  },
  {
   "cell_type": "code",
   "execution_count": 91,
   "id": "af4d816e",
   "metadata": {},
   "outputs": [
    {
     "data": {
      "text/plain": [
       "<sqlite3.Cursor at 0x263328416c0>"
      ]
     },
     "execution_count": 91,
     "metadata": {},
     "output_type": "execute_result"
    }
   ],
   "source": [
    "c.execute('create table student (student_id int ,student_name text, student_email text,marks int )')"
   ]
  },
  {
   "cell_type": "code",
   "execution_count": 96,
   "id": "fa475944",
   "metadata": {},
   "outputs": [
    {
     "data": {
      "text/plain": [
       "<sqlite3.Cursor at 0x263328416c0>"
      ]
     },
     "execution_count": 96,
     "metadata": {},
     "output_type": "execute_result"
    }
   ],
   "source": [
    "c.execute('create table address(student_id int,pincode int, location text,nearby text,ph_no int)')"
   ]
  },
  {
   "cell_type": "code",
   "execution_count": 92,
   "id": "b7d8ab57",
   "metadata": {},
   "outputs": [
    {
     "data": {
      "text/plain": [
       "<sqlite3.Cursor at 0x263328416c0>"
      ]
     },
     "execution_count": 92,
     "metadata": {},
     "output_type": "execute_result"
    }
   ],
   "source": [
    "c.execute(\"insert into student values(234,'siddhant','siddhant@gmail.com',234)\")\n",
    "c.execute(\"insert into student values(235,'siddhant','siddhant@gmail.com',234)\")\n",
    "c.execute(\"insert into student values(236,'siddhant','siddhant@gmail.com',234)\")\n",
    "c.execute(\"insert into student values(237,'siddhant','siddhant@gmail.com',234)\")\n",
    "c.execute(\"insert into student values(238,'siddhant','siddhant@gmail.com',234)\")\n",
    "c.execute(\"insert into student values(239,'siddhant','siddhant@gmail.com',234)\")"
   ]
  },
  {
   "cell_type": "code",
   "execution_count": 93,
   "id": "3d859a82",
   "metadata": {},
   "outputs": [
    {
     "data": {
      "text/plain": [
       "<sqlite3.Cursor at 0x263328416c0>"
      ]
     },
     "execution_count": 93,
     "metadata": {},
     "output_type": "execute_result"
    }
   ],
   "source": [
    "c.execute(\"insert into student values(240,'siddhant','siddhant@gmail.com',234)\")\n",
    "c.execute(\"insert into student values(241,'siddhant','siddhant@gmail.com',234)\")\n",
    "c.execute(\"insert into student values(242,'siddhant','siddhant@gmail.com',234)\")\n",
    "c.execute(\"insert into student values(243,'siddhant','siddhant@gmail.com',234)\")\n",
    "c.execute(\"insert into student values(244,'siddhant','siddhant@gmail.com',234)\")\n",
    "c.execute(\"insert into student values(245,'siddhant','siddhant@gmail.com',234)\")\n"
   ]
  },
  {
   "cell_type": "code",
   "execution_count": 97,
   "id": "00c8b3e9",
   "metadata": {},
   "outputs": [
    {
     "data": {
      "text/plain": [
       "<sqlite3.Cursor at 0x263328416c0>"
      ]
     },
     "execution_count": 97,
     "metadata": {},
     "output_type": "execute_result"
    }
   ],
   "source": [
    "c.execute(\"insert into address values(234,560034,'whitefield','ineuron officce',6461658965)\")\n",
    "c.execute(\"insert into address values(235,560034,'whitefield','ineuron officce',6461658965)\")\n",
    "c.execute(\"insert into address values(236,560034,'whitefield','ineuron officce',6461658965)\")\n",
    "c.execute(\"insert into address values(237,560034,'whitefield','ineuron officce',6461658965)\")\n",
    "c.execute(\"insert into address values(238,560034,'whitefield','ineuron officce',6461658965)\")\n",
    "c.execute(\"insert into address values(239,560034,'whitefield','ineuron officce',6461658965)\")\n",
    "c.execute(\"insert into address values(240,560034,'whitefield','ineuron officce',6461658965)\")\n",
    "c.execute(\"insert into address values(241,560034,'whitefield','ineuron officce',6461658965)\")\n",
    "c.execute(\"insert into address values(242,560034,'whitefield','ineuron officce',6461658965)\")\n",
    "c.execute(\"insert into address values(243,560034,'whitefield','ineuron officce',6461658965)\")\n",
    "c.execute(\"insert into address values(244,560034,'whitefield','ineuron officce',6461658965)\")\n",
    "c.execute(\"insert into address values(245,560034,'whitefield','ineuron officce',6461658965)\")"
   ]
  },
  {
   "cell_type": "code",
   "execution_count": 98,
   "id": "153852f8",
   "metadata": {},
   "outputs": [
    {
     "name": "stdout",
     "output_type": "stream",
     "text": [
      "(234, 560034, 'whitefield', 'ineuron officce', 6461658965)\n",
      "(235, 560034, 'whitefield', 'ineuron officce', 6461658965)\n",
      "(236, 560034, 'whitefield', 'ineuron officce', 6461658965)\n",
      "(237, 560034, 'whitefield', 'ineuron officce', 6461658965)\n",
      "(238, 560034, 'whitefield', 'ineuron officce', 6461658965)\n",
      "(239, 560034, 'whitefield', 'ineuron officce', 6461658965)\n",
      "(240, 560034, 'whitefield', 'ineuron officce', 6461658965)\n",
      "(241, 560034, 'whitefield', 'ineuron officce', 6461658965)\n",
      "(242, 560034, 'whitefield', 'ineuron officce', 6461658965)\n",
      "(243, 560034, 'whitefield', 'ineuron officce', 6461658965)\n",
      "(244, 560034, 'whitefield', 'ineuron officce', 6461658965)\n",
      "(245, 560034, 'whitefield', 'ineuron officce', 6461658965)\n"
     ]
    }
   ],
   "source": [
    "for i in c.execute('select * from address') :\n",
    "    print(i)"
   ]
  },
  {
   "cell_type": "code",
   "execution_count": 100,
   "id": "5c21952b",
   "metadata": {},
   "outputs": [
    {
     "name": "stdout",
     "output_type": "stream",
     "text": [
      "(234, 'siddhant', 'siddhant@gmail.com', 234)\n",
      "(235, 'siddhant', 'siddhant@gmail.com', 234)\n",
      "(236, 'siddhant', 'siddhant@gmail.com', 234)\n",
      "(237, 'siddhant', 'siddhant@gmail.com', 234)\n",
      "(238, 'siddhant', 'siddhant@gmail.com', 234)\n",
      "(239, 'siddhant', 'siddhant@gmail.com', 234)\n",
      "(240, 'siddhant', 'siddhant@gmail.com', 234)\n",
      "(241, 'siddhant', 'siddhant@gmail.com', 234)\n",
      "(242, 'siddhant', 'siddhant@gmail.com', 234)\n",
      "(243, 'siddhant', 'siddhant@gmail.com', 234)\n",
      "(244, 'siddhant', 'siddhant@gmail.com', 234)\n",
      "(245, 'siddhant', 'siddhant@gmail.com', 234)\n"
     ]
    }
   ],
   "source": [
    "for i in c.execute('select * from student') :\n",
    "    print(i)"
   ]
  },
  {
   "cell_type": "markdown",
   "id": "01e69e8a",
   "metadata": {},
   "source": [
    "##### print address of all students"
   ]
  },
  {
   "cell_type": "code",
   "execution_count": 103,
   "id": "641cd11e",
   "metadata": {},
   "outputs": [
    {
     "name": "stdout",
     "output_type": "stream",
     "text": [
      "(234, 'whitefield', 'ineuron officce', 6461658965)\n",
      "(235, 'whitefield', 'ineuron officce', 6461658965)\n",
      "(236, 'whitefield', 'ineuron officce', 6461658965)\n",
      "(237, 'whitefield', 'ineuron officce', 6461658965)\n",
      "(238, 'whitefield', 'ineuron officce', 6461658965)\n",
      "(239, 'whitefield', 'ineuron officce', 6461658965)\n",
      "(240, 'whitefield', 'ineuron officce', 6461658965)\n",
      "(241, 'whitefield', 'ineuron officce', 6461658965)\n",
      "(242, 'whitefield', 'ineuron officce', 6461658965)\n",
      "(243, 'whitefield', 'ineuron officce', 6461658965)\n",
      "(244, 'whitefield', 'ineuron officce', 6461658965)\n",
      "(245, 'whitefield', 'ineuron officce', 6461658965)\n"
     ]
    }
   ],
   "source": [
    "for i in c.execute('select s.student_id,a.location,a.nearby,a.ph_no from student as s left join address a on s.student_id = a.student_id'):\n",
    "    print(i)"
   ]
  },
  {
   "cell_type": "markdown",
   "id": "305e51fc",
   "metadata": {},
   "source": [
    "##### SQLite doesnt support right and full join "
   ]
  },
  {
   "cell_type": "code",
   "execution_count": 105,
   "id": "a08297ef",
   "metadata": {},
   "outputs": [
    {
     "data": {
      "text/plain": [
       "<sqlite3.Cursor at 0x263328416c0>"
      ]
     },
     "execution_count": 105,
     "metadata": {},
     "output_type": "execute_result"
    }
   ],
   "source": [
    "c.execute('delete from student where student_id > 237')"
   ]
  },
  {
   "cell_type": "code",
   "execution_count": 106,
   "id": "ba89a4cd",
   "metadata": {},
   "outputs": [
    {
     "name": "stdout",
     "output_type": "stream",
     "text": [
      "(234, 'siddhant', 'siddhant@gmail.com', 234)\n",
      "(235, 'siddhant', 'siddhant@gmail.com', 234)\n",
      "(236, 'siddhant', 'siddhant@gmail.com', 234)\n",
      "(237, 'siddhant', 'siddhant@gmail.com', 234)\n"
     ]
    }
   ],
   "source": [
    "for i in c.execute(\"select * from student\") :\n",
    "    print(i)"
   ]
  },
  {
   "cell_type": "code",
   "execution_count": 107,
   "id": "cba484d4",
   "metadata": {},
   "outputs": [
    {
     "data": {
      "text/plain": [
       "<sqlite3.Cursor at 0x263328416c0>"
      ]
     },
     "execution_count": 107,
     "metadata": {},
     "output_type": "execute_result"
    }
   ],
   "source": [
    "c.execute(\"update student set student_id =1000 where student_id = 236\")"
   ]
  },
  {
   "cell_type": "code",
   "execution_count": 108,
   "id": "5cbdd1fe",
   "metadata": {},
   "outputs": [],
   "source": [
    "data = c.execute(\"select * from student\")"
   ]
  },
  {
   "cell_type": "code",
   "execution_count": 109,
   "id": "d2fc337b",
   "metadata": {},
   "outputs": [
    {
     "data": {
      "text/plain": [
       "[(234, 'siddhant', 'siddhant@gmail.com', 234),\n",
       " (235, 'siddhant', 'siddhant@gmail.com', 234),\n",
       " (1000, 'siddhant', 'siddhant@gmail.com', 234),\n",
       " (237, 'siddhant', 'siddhant@gmail.com', 234)]"
      ]
     },
     "execution_count": 109,
     "metadata": {},
     "output_type": "execute_result"
    }
   ],
   "source": [
    "data.fetchall()"
   ]
  },
  {
   "cell_type": "code",
   "execution_count": 110,
   "id": "bd3f38b9",
   "metadata": {},
   "outputs": [],
   "source": [
    "db.close()"
   ]
  },
  {
   "cell_type": "code",
   "execution_count": null,
   "id": "05ec99c3",
   "metadata": {},
   "outputs": [],
   "source": []
  },
  {
   "cell_type": "code",
   "execution_count": null,
   "id": "d7f7b925",
   "metadata": {},
   "outputs": [],
   "source": []
  },
  {
   "cell_type": "code",
   "execution_count": null,
   "id": "91440ce3",
   "metadata": {},
   "outputs": [],
   "source": []
  },
  {
   "cell_type": "code",
   "execution_count": null,
   "id": "b843dbeb",
   "metadata": {},
   "outputs": [],
   "source": []
  },
  {
   "cell_type": "code",
   "execution_count": null,
   "id": "266709d9",
   "metadata": {},
   "outputs": [],
   "source": []
  },
  {
   "cell_type": "code",
   "execution_count": null,
   "id": "ef5f2e34",
   "metadata": {},
   "outputs": [],
   "source": []
  }
 ],
 "metadata": {
  "kernelspec": {
   "display_name": "Python 3 (ipykernel)",
   "language": "python",
   "name": "python3"
  },
  "language_info": {
   "codemirror_mode": {
    "name": "ipython",
    "version": 3
   },
   "file_extension": ".py",
   "mimetype": "text/x-python",
   "name": "python",
   "nbconvert_exporter": "python",
   "pygments_lexer": "ipython3",
   "version": "3.9.13"
  },
  "varInspector": {
   "cols": {
    "lenName": 16,
    "lenType": 16,
    "lenVar": 40
   },
   "kernels_config": {
    "python": {
     "delete_cmd_postfix": "",
     "delete_cmd_prefix": "del ",
     "library": "var_list.py",
     "varRefreshCmd": "print(var_dic_list())"
    },
    "r": {
     "delete_cmd_postfix": ") ",
     "delete_cmd_prefix": "rm(",
     "library": "var_list.r",
     "varRefreshCmd": "cat(var_dic_list()) "
    }
   },
   "types_to_exclude": [
    "module",
    "function",
    "builtin_function_or_method",
    "instance",
    "_Feature"
   ],
   "window_display": false
  }
 },
 "nbformat": 4,
 "nbformat_minor": 5
}
